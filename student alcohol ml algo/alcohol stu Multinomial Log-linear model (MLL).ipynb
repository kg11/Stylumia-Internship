{
 "cells": [
  {
   "cell_type": "code",
   "execution_count": 1,
   "metadata": {},
   "outputs": [],
   "source": [
    "#read data\n",
    "d1=read.table(\"student-mat.csv\",sep=\",\",header=TRUE)\n",
    "d2=read.table(\"student-por.csv\",sep=\",\",header=TRUE)"
   ]
  },
  {
   "cell_type": "code",
   "execution_count": 2,
   "metadata": {},
   "outputs": [
    {
     "name": "stderr",
     "output_type": "stream",
     "text": [
      "Warning message:\n",
      "\"package 'ggplot2' was built under R version 3.5.2\"Warning message:\n",
      "\"package 'randomForest' was built under R version 3.5.2\"randomForest 4.6-14\n",
      "Type rfNews() to see new features/changes/bug fixes.\n",
      "\n",
      "Attaching package: 'randomForest'\n",
      "\n",
      "The following object is masked from 'package:ggplot2':\n",
      "\n",
      "    margin\n",
      "\n",
      "Warning message:\n",
      "\"package 'caret' was built under R version 3.5.2\"Loading required package: lattice\n",
      "Warning message:\n",
      "\"package 'dplyr' was built under R version 3.5.2\"\n",
      "Attaching package: 'dplyr'\n",
      "\n",
      "The following object is masked from 'package:randomForest':\n",
      "\n",
      "    combine\n",
      "\n",
      "The following objects are masked from 'package:stats':\n",
      "\n",
      "    filter, lag\n",
      "\n",
      "The following objects are masked from 'package:base':\n",
      "\n",
      "    intersect, setdiff, setequal, union\n",
      "\n",
      "\n",
      "Attaching package: 'MASS'\n",
      "\n",
      "The following object is masked from 'package:dplyr':\n",
      "\n",
      "    select\n",
      "\n"
     ]
    }
   ],
   "source": [
    "library(ggplot2)\n",
    "library(randomForest)\n",
    "library(caret)\n",
    "library(dplyr)\n",
    "library(MASS)\n",
    "library(nnet)"
   ]
  },
  {
   "cell_type": "code",
   "execution_count": 3,
   "metadata": {},
   "outputs": [],
   "source": [
    "#we will apply Linear Discrimant Analysis(LDA) algorithm to see what happens on walc and dalc attribute\n",
    "#dividing into train and test\n",
    "train <- sample(1:nrow(d1),size = ceiling(0.8*nrow(d1)),replace = FALSE)\n",
    "d1.train <- d1[train,]\n",
    "d1.test <- d1[-train,]"
   ]
  },
  {
   "cell_type": "code",
   "execution_count": 4,
   "metadata": {},
   "outputs": [
    {
     "name": "stdout",
     "output_type": "stream",
     "text": [
      "'data.frame':\t316 obs. of  33 variables:\n",
      " $ school    : Factor w/ 2 levels \"GP\",\"MS\": 1 1 1 1 1 1 1 1 1 1 ...\n",
      " $ sex       : Factor w/ 2 levels \"F\",\"M\": 2 1 2 2 2 2 2 1 2 1 ...\n",
      " $ age       : int  16 16 16 17 18 16 15 18 17 17 ...\n",
      " $ address   : Factor w/ 2 levels \"R\",\"U\": 2 2 2 2 2 1 2 2 2 1 ...\n",
      " $ famsize   : Factor w/ 2 levels \"GT3\",\"LE3\": 1 1 1 2 2 1 1 1 1 2 ...\n",
      " $ Pstatus   : Factor w/ 2 levels \"A\",\"T\": 2 2 2 1 2 2 2 1 2 2 ...\n",
      " $ Medu      : int  1 2 2 4 4 4 2 4 3 2 ...\n",
      " $ Fedu      : int  2 2 3 1 3 4 2 4 3 2 ...\n",
      " $ Mjob      : Factor w/ 5 levels \"at_home\",\"health\",..: 4 4 3 4 5 5 4 1 3 4 ...\n",
      " $ Fjob      : Factor w/ 5 levels \"at_home\",\"health\",..: 4 3 3 3 4 5 4 5 3 4 ...\n",
      " $ reason    : Factor w/ 4 levels \"course\",\"home\",..: 3 4 2 2 1 1 1 1 4 1 ...\n",
      " $ guardian  : Factor w/ 3 levels \"father\",\"mother\",..: 2 2 1 2 2 2 1 2 1 2 ...\n",
      " $ traveltime: int  1 2 2 2 2 1 1 2 1 1 ...\n",
      " $ studytime : int  1 2 1 1 1 1 1 2 2 3 ...\n",
      " $ failures  : int  0 0 0 0 0 0 0 0 0 0 ...\n",
      " $ schoolsup : Factor w/ 2 levels \"no\",\"yes\": 1 1 1 1 1 1 2 2 1 1 ...\n",
      " $ famsup    : Factor w/ 2 levels \"no\",\"yes\": 2 1 1 1 1 1 2 1 1 2 ...\n",
      " $ paid      : Factor w/ 2 levels \"no\",\"yes\": 2 2 1 2 2 2 1 1 1 2 ...\n",
      " $ activities: Factor w/ 2 levels \"no\",\"yes\": 2 2 1 2 2 2 1 1 2 2 ...\n",
      " $ nursery   : Factor w/ 2 levels \"no\",\"yes\": 2 1 2 2 2 2 2 2 1 2 ...\n",
      " $ higher    : Factor w/ 2 levels \"no\",\"yes\": 2 2 2 2 2 2 2 2 2 2 ...\n",
      " $ internet  : Factor w/ 2 levels \"no\",\"yes\": 2 2 2 2 2 2 2 1 2 2 ...\n",
      " $ romantic  : Factor w/ 2 levels \"no\",\"yes\": 2 1 1 2 1 1 1 1 1 1 ...\n",
      " $ famrel    : int  3 3 5 4 4 3 5 4 4 3 ...\n",
      " $ freetime  : int  3 4 3 5 2 5 4 3 3 3 ...\n",
      " $ goout     : int  3 4 3 4 3 5 1 4 4 2 ...\n",
      " $ Dalc      : int  1 1 1 2 1 2 1 1 1 2 ...\n",
      " $ Walc      : int  2 4 1 4 2 5 1 1 4 2 ...\n",
      " $ health    : int  3 5 3 5 1 4 1 3 4 3 ...\n",
      " $ absences  : int  2 2 0 30 8 8 0 6 4 3 ...\n",
      " $ G1        : int  11 13 13 8 10 18 8 5 6 11 ...\n",
      " $ G2        : int  12 13 14 8 11 18 8 6 5 11 ...\n",
      " $ G3        : int  11 11 14 8 10 18 11 6 6 11 ...\n"
     ]
    }
   ],
   "source": [
    "str(d1.train)"
   ]
  },
  {
   "cell_type": "code",
   "execution_count": 5,
   "metadata": {},
   "outputs": [],
   "source": [
    "#walc and dalc considered as categorical attribute\n",
    "d1.train$Walc <- as.factor(d1.train$Walc)\n",
    "d1.train$Dalc <- as.factor(d1.train$Dalc)\n",
    "d1.test$Walc <- as.factor(d1.test$Walc)\n",
    "d1.test$Dalc <- as.factor(d1.test$Dalc)"
   ]
  },
  {
   "cell_type": "code",
   "execution_count": 6,
   "metadata": {},
   "outputs": [
    {
     "name": "stdout",
     "output_type": "stream",
     "text": [
      "'data.frame':\t316 obs. of  33 variables:\n",
      " $ school    : Factor w/ 2 levels \"GP\",\"MS\": 1 1 1 1 1 1 1 1 1 1 ...\n",
      " $ sex       : Factor w/ 2 levels \"F\",\"M\": 2 1 2 2 2 2 2 1 2 1 ...\n",
      " $ age       : int  16 16 16 17 18 16 15 18 17 17 ...\n",
      " $ address   : Factor w/ 2 levels \"R\",\"U\": 2 2 2 2 2 1 2 2 2 1 ...\n",
      " $ famsize   : Factor w/ 2 levels \"GT3\",\"LE3\": 1 1 1 2 2 1 1 1 1 2 ...\n",
      " $ Pstatus   : Factor w/ 2 levels \"A\",\"T\": 2 2 2 1 2 2 2 1 2 2 ...\n",
      " $ Medu      : int  1 2 2 4 4 4 2 4 3 2 ...\n",
      " $ Fedu      : int  2 2 3 1 3 4 2 4 3 2 ...\n",
      " $ Mjob      : Factor w/ 5 levels \"at_home\",\"health\",..: 4 4 3 4 5 5 4 1 3 4 ...\n",
      " $ Fjob      : Factor w/ 5 levels \"at_home\",\"health\",..: 4 3 3 3 4 5 4 5 3 4 ...\n",
      " $ reason    : Factor w/ 4 levels \"course\",\"home\",..: 3 4 2 2 1 1 1 1 4 1 ...\n",
      " $ guardian  : Factor w/ 3 levels \"father\",\"mother\",..: 2 2 1 2 2 2 1 2 1 2 ...\n",
      " $ traveltime: int  1 2 2 2 2 1 1 2 1 1 ...\n",
      " $ studytime : int  1 2 1 1 1 1 1 2 2 3 ...\n",
      " $ failures  : int  0 0 0 0 0 0 0 0 0 0 ...\n",
      " $ schoolsup : Factor w/ 2 levels \"no\",\"yes\": 1 1 1 1 1 1 2 2 1 1 ...\n",
      " $ famsup    : Factor w/ 2 levels \"no\",\"yes\": 2 1 1 1 1 1 2 1 1 2 ...\n",
      " $ paid      : Factor w/ 2 levels \"no\",\"yes\": 2 2 1 2 2 2 1 1 1 2 ...\n",
      " $ activities: Factor w/ 2 levels \"no\",\"yes\": 2 2 1 2 2 2 1 1 2 2 ...\n",
      " $ nursery   : Factor w/ 2 levels \"no\",\"yes\": 2 1 2 2 2 2 2 2 1 2 ...\n",
      " $ higher    : Factor w/ 2 levels \"no\",\"yes\": 2 2 2 2 2 2 2 2 2 2 ...\n",
      " $ internet  : Factor w/ 2 levels \"no\",\"yes\": 2 2 2 2 2 2 2 1 2 2 ...\n",
      " $ romantic  : Factor w/ 2 levels \"no\",\"yes\": 2 1 1 2 1 1 1 1 1 1 ...\n",
      " $ famrel    : int  3 3 5 4 4 3 5 4 4 3 ...\n",
      " $ freetime  : int  3 4 3 5 2 5 4 3 3 3 ...\n",
      " $ goout     : int  3 4 3 4 3 5 1 4 4 2 ...\n",
      " $ Dalc      : Factor w/ 5 levels \"1\",\"2\",\"3\",\"4\",..: 1 1 1 2 1 2 1 1 1 2 ...\n",
      " $ Walc      : Factor w/ 5 levels \"1\",\"2\",\"3\",\"4\",..: 2 4 1 4 2 5 1 1 4 2 ...\n",
      " $ health    : int  3 5 3 5 1 4 1 3 4 3 ...\n",
      " $ absences  : int  2 2 0 30 8 8 0 6 4 3 ...\n",
      " $ G1        : int  11 13 13 8 10 18 8 5 6 11 ...\n",
      " $ G2        : int  12 13 14 8 11 18 8 6 5 11 ...\n",
      " $ G3        : int  11 11 14 8 10 18 11 6 6 11 ...\n"
     ]
    }
   ],
   "source": [
    "str(d1.train)"
   ]
  },
  {
   "cell_type": "code",
   "execution_count": 27,
   "metadata": {},
   "outputs": [],
   "source": [
    "#applying Multinomial Log-linear model (MLL)\n",
    "# fit the model\n",
    "fit <- multinom(Walc ~., data = d1.train,trace=FALSE)"
   ]
  },
  {
   "cell_type": "code",
   "execution_count": 28,
   "metadata": {},
   "outputs": [
    {
     "name": "stdout",
     "output_type": "stream",
     "text": [
      "Call:\n",
      "multinom(formula = Walc ~ ., data = d1.train, trace = FALSE)\n",
      "\n",
      "Coefficients:\n",
      "  (Intercept)    schoolMS       sexM        age     addressU  famsizeLE3\n",
      "2  -11.574228  -0.2558696  0.4540795  0.6427198  -0.42020842 -0.27154311\n",
      "3  -16.226569   1.1641534  0.7616048  0.6052876  -0.57607433 -0.01271787\n",
      "4  -38.658663  -0.8130845  2.3554472  0.5046785  -0.05763041 -0.62372387\n",
      "5   -6.233606 -32.4956633 15.5022301 -0.6544876 -10.36618745  4.23210920\n",
      "    PstatusT       Medu        Fedu  Mjobhealth   Mjobother Mjobservices\n",
      "2 -0.0590675 -0.3462068   0.3289927 -0.44680317   0.0853972   -0.1588419\n",
      "3  0.7975194 -1.2539699   0.6005496  2.80123344  -0.1220520    0.7482940\n",
      "4 -2.0258339 -1.2365771   0.5664988 -0.78655518  -2.8674111   -2.6817479\n",
      "5 -9.9373014  3.2263569 -11.0431500  0.09215364 -28.2677320  -26.3391468\n",
      "  Mjobteacher  Fjobhealth  Fjobother Fjobservices Fjobteacher reasonhome\n",
      "2   0.1051299  -0.4510592 -0.1258444    0.4603646 -0.07015287 -0.8305635\n",
      "3   1.1962387 -38.8434237  3.5909188    3.1578702  1.27670875 -0.1552506\n",
      "4  -1.7029736  26.1041283 27.8568255   27.5523531 25.87042681 -0.1757003\n",
      "5 -22.3207525  29.4055304 18.7830409   29.2266958 52.04640512 13.3479120\n",
      "  reasonother reasonreputation guardianmother guardianother traveltime\n",
      "2  -0.2989557      -0.01261917     -0.2099656     -2.336044 -0.2843623\n",
      "3   0.3360348       0.48086957     -0.1030674     -2.214171 -0.4634138\n",
      "4  -0.1790131       0.18515059     -1.1272970     -5.456556  0.4542946\n",
      "5 -36.9099360      10.49371173      2.5412510      8.702277  0.7571293\n",
      "   studytime    failures schoolsupyes   famsupyes   paidyes activitiesyes\n",
      "2 -0.4036023  0.11469016   -1.4498548  0.01096554  1.078905    -0.5581044\n",
      "3 -0.2641488  0.06532086    0.2470636 -0.31827365  1.605678    -0.5140257\n",
      "4 -0.9217861 -0.73536455    0.3438427 -1.19095389  1.237513    -0.2677641\n",
      "5  1.6651003  0.51791688   -4.9300956  9.90020954 -7.685842     2.1410884\n",
      "   nurseryyes   higheryes internetyes  romanticyes     famrel   freetime\n",
      "2  -0.8181192   3.1436581   0.9227431  -0.39127655 -0.3578453 -0.1153628\n",
      "3  -0.3347799   0.7464952  -0.3013408  -0.06520572 -0.4792596  0.1144006\n",
      "4  -2.2821306   2.1428750   0.8950966  -0.24196638 -0.7607801  0.1822051\n",
      "5 -15.3281296 -18.5800442  -7.9454425 -11.86754574 -1.8993431 -3.7574936\n",
      "        goout     Dalc2    Dalc3    Dalc4     Dalc5    health    absences\n",
      "2 -0.04332357  4.773097 37.58506 19.00477 -20.78644 0.2760882  0.02384384\n",
      "3  0.72117207  6.652638 41.30942 20.70766 -14.12802 0.1382583  0.09489063\n",
      "4  1.77154996  8.235718 43.92025 22.75623  -8.68771 0.6079773  0.15321090\n",
      "5 11.83211565 22.442298 56.66035 70.39003  77.71865 0.6848414 -0.31443659\n",
      "          G1           G2         G3\n",
      "2  0.1878745 -0.355871218  0.1554649\n",
      "3 -0.0412840 -0.006192251  0.1598744\n",
      "4 -0.2202694  0.011738625  0.1810377\n",
      "5 -0.2742777  1.565595586 -0.7289422\n",
      "\n",
      "Residual Deviance: 454.4176 \n",
      "AIC: 814.4176 \n"
     ]
    }
   ],
   "source": [
    "print(fit)"
   ]
  },
  {
   "cell_type": "code",
   "execution_count": 40,
   "metadata": {},
   "outputs": [
    {
     "name": "stdout",
     "output_type": "stream",
     "text": [
      "Confusion Matrix and Statistics\n",
      "\n",
      "          Reference\n",
      "Prediction  1  2  3  4  5\n",
      "         1 17  5  7  0  0\n",
      "         2  5  7  2  1  0\n",
      "         3  2  3  3  0  0\n",
      "         4  3  3  4  9  1\n",
      "         5  0  1  0  0  6\n",
      "\n",
      "Overall Statistics\n",
      "                                         \n",
      "               Accuracy : 0.5316         \n",
      "                 95% CI : (0.416, 0.6449)\n",
      "    No Information Rate : 0.3418         \n",
      "    P-Value [Acc > NIR] : 0.0004049      \n",
      "                                         \n",
      "                  Kappa : 0.3905         \n",
      " Mcnemar's Test P-Value : NA             \n",
      "\n",
      "Statistics by Class:\n",
      "\n",
      "                     Class: 1 Class: 2 Class: 3 Class: 4 Class: 5\n",
      "Sensitivity            0.6296  0.36842  0.18750   0.9000  0.85714\n",
      "Specificity            0.7692  0.86667  0.92063   0.8406  0.98611\n",
      "Pos Pred Value         0.5862  0.46667  0.37500   0.4500  0.85714\n",
      "Neg Pred Value         0.8000  0.81250  0.81690   0.9831  0.98611\n",
      "Prevalence             0.3418  0.24051  0.20253   0.1266  0.08861\n",
      "Detection Rate         0.2152  0.08861  0.03797   0.1139  0.07595\n",
      "Detection Prevalence   0.3671  0.18987  0.10127   0.2532  0.08861\n",
      "Balanced Accuracy      0.6994  0.61754  0.55407   0.8703  0.92163\n"
     ]
    }
   ],
   "source": [
    "# get predictions on test set\n",
    "tlda <- predict(fit,d1.test)\n",
    "# confussion matrix\n",
    "cmLL <- confusionMatrix(tlda,d1.test$Walc)\n",
    "cmLLAAcc <- cmLL$overall['Accuracy']\n",
    "print(cmLL)"
   ]
  },
  {
   "cell_type": "code",
   "execution_count": 34,
   "metadata": {},
   "outputs": [],
   "source": [
    "#SO ON D1 DATASET WE ARE GETTING AROUND 53% "
   ]
  },
  {
   "cell_type": "code",
   "execution_count": 31,
   "metadata": {},
   "outputs": [],
   "source": [
    "#dividing into train and test\n",
    "train <- sample(1:nrow(d2),size = ceiling(0.8*nrow(d2)),replace = FALSE)\n",
    "d2.train <- d2[train,]\n",
    "d2.test <- d2[-train,]"
   ]
  },
  {
   "cell_type": "code",
   "execution_count": 32,
   "metadata": {},
   "outputs": [],
   "source": [
    "#walc and dalc considered as categorical attribute\n",
    "d2.train$Walc <- as.factor(d2.train$Walc)\n",
    "d2.train$Dalc <- as.factor(d2.train$Dalc)\n",
    "d2.test$Walc <- as.factor(d2.test$Walc)\n",
    "d2.test$Dalc <- as.factor(d2.test$Dalc)"
   ]
  },
  {
   "cell_type": "code",
   "execution_count": 33,
   "metadata": {},
   "outputs": [
    {
     "name": "stdout",
     "output_type": "stream",
     "text": [
      "'data.frame':\t520 obs. of  33 variables:\n",
      " $ school    : Factor w/ 2 levels \"GP\",\"MS\": 2 1 1 1 2 2 1 2 1 1 ...\n",
      " $ sex       : Factor w/ 2 levels \"F\",\"M\": 1 2 2 1 2 2 1 1 1 2 ...\n",
      " $ age       : int  16 16 16 17 18 20 17 16 17 17 ...\n",
      " $ address   : Factor w/ 2 levels \"R\",\"U\": 1 2 2 2 1 1 2 2 2 1 ...\n",
      " $ famsize   : Factor w/ 2 levels \"GT3\",\"LE3\": 1 1 2 2 1 1 1 1 2 1 ...\n",
      " $ Pstatus   : Factor w/ 2 levels \"A\",\"T\": 2 2 2 2 2 2 2 2 2 2 ...\n",
      " $ Medu      : int  2 3 2 2 2 1 2 3 2 2 ...\n",
      " $ Fedu      : int  3 3 2 1 1 1 2 3 2 2 ...\n",
      " $ Mjob      : Factor w/ 5 levels \"at_home\",\"health\",..: 1 4 4 3 3 3 3 3 4 4 ...\n",
      " $ Fjob      : Factor w/ 5 levels \"at_home\",\"health\",..: 4 3 4 3 3 3 3 3 3 3 ...\n",
      " $ reason    : Factor w/ 4 levels \"course\",\"home\",..: 1 2 4 2 3 1 1 4 1 1 ...\n",
      " $ guardian  : Factor w/ 3 levels \"father\",\"mother\",..: 2 1 1 1 2 3 2 2 2 2 ...\n",
      " $ traveltime: int  2 1 2 1 2 2 1 1 2 4 ...\n",
      " $ studytime : int  2 3 1 2 1 1 2 1 2 1 ...\n",
      " $ failures  : int  0 0 0 0 0 1 0 0 0 0 ...\n",
      " $ schoolsup : Factor w/ 2 levels \"no\",\"yes\": 1 1 1 1 1 1 1 1 2 1 ...\n",
      " $ famsup    : Factor w/ 2 levels \"no\",\"yes\": 1 2 2 1 1 2 2 1 2 2 ...\n",
      " $ paid      : Factor w/ 2 levels \"no\",\"yes\": 1 1 1 1 1 1 1 1 1 1 ...\n",
      " $ activities: Factor w/ 2 levels \"no\",\"yes\": 1 2 2 2 2 1 1 2 1 1 ...\n",
      " $ nursery   : Factor w/ 2 levels \"no\",\"yes\": 2 2 2 2 1 2 2 2 2 2 ...\n",
      " $ higher    : Factor w/ 2 levels \"no\",\"yes\": 2 2 2 2 2 1 2 1 2 2 ...\n",
      " $ internet  : Factor w/ 2 levels \"no\",\"yes\": 1 2 2 2 2 2 1 2 2 2 ...\n",
      " $ romantic  : Factor w/ 2 levels \"no\",\"yes\": 1 1 1 1 2 2 2 2 2 1 ...\n",
      " $ famrel    : int  4 5 2 4 4 4 4 4 4 4 ...\n",
      " $ freetime  : int  5 3 3 2 4 4 2 5 4 4 ...\n",
      " $ goout     : int  2 3 3 3 3 3 2 4 4 5 ...\n",
      " $ Dalc      : Factor w/ 5 levels \"1\",\"2\",\"3\",\"4\",..: 1 1 2 2 1 2 1 1 2 5 ...\n",
      " $ Walc      : Factor w/ 5 levels \"1\",\"2\",\"3\",\"4\",..: 2 1 2 2 3 4 1 1 3 5 ...\n",
      " $ health    : int  5 5 2 2 5 4 3 4 5 4 ...\n",
      " $ absences  : int  0 4 4 2 0 12 4 0 6 2 ...\n",
      " $ G1        : int  16 13 12 11 7 8 14 14 12 11 ...\n",
      " $ G2        : int  17 14 11 12 7 11 13 13 12 10 ...\n",
      " $ G3        : int  17 14 11 14 0 10 13 13 12 10 ...\n"
     ]
    }
   ],
   "source": [
    "str(d2.train)"
   ]
  },
  {
   "cell_type": "code",
   "execution_count": 35,
   "metadata": {},
   "outputs": [],
   "source": [
    "#applying Multinomial Log-linear model (MLL)\n",
    "# fit the model\n",
    "fit <- multinom(Walc ~., data = d2.train,trace=FALSE)"
   ]
  },
  {
   "cell_type": "code",
   "execution_count": 36,
   "metadata": {},
   "outputs": [
    {
     "name": "stdout",
     "output_type": "stream",
     "text": [
      "Call:\n",
      "multinom(formula = Walc ~ ., data = d2.train, trace = FALSE)\n",
      "\n",
      "Coefficients:\n",
      "  (Intercept)   schoolMS      sexM        age    addressU famsizeLE3   PstatusT\n",
      "2   -4.437503  0.3181890 0.3203926  0.2529875  0.08557383  0.1718559  0.2299541\n",
      "3   -5.538331  0.2486065 0.9679113  0.1249043  0.07473621  0.2964389  0.6671116\n",
      "4   -8.027489 -0.2234056 1.2814911  0.3873574  0.18526646 -0.1450671 -0.1988478\n",
      "5   -0.645837 -1.6463490 1.6872256 -0.2595907 -0.39674798  0.1415229  1.7914350\n",
      "        Medu       Fedu Mjobhealth   Mjobother Mjobservices Mjobteacher\n",
      "2 -0.2813380 0.06416594  0.4102670 -0.07880017   -0.4056916   0.1592872\n",
      "3 -0.4520368 0.33195509  0.2307223 -0.65148320   -0.6487833  -0.6670012\n",
      "4 -0.5750113 0.23825883  0.9156003 -0.74555508   -0.8265730  -0.1220362\n",
      "5 -1.0431136 0.32183441  0.2152079 -2.31147430   -2.4119284  -0.6935736\n",
      "  Fjobhealth     Fjobother Fjobservices Fjobteacher reasonhome reasonother\n",
      "2 -0.2897214  0.2520382248    0.9502450  0.44398933  0.1535694 -0.19114812\n",
      "3 -6.8270718  1.3104159116    1.6746112  0.07593774  0.5969527  0.35390744\n",
      "4  0.3004829 -0.0009029874    0.8034727 -8.71096028 -0.3290163  0.05283325\n",
      "5  1.3976135 -1.0097333981    0.4495976 -1.31337537  0.3040406 -0.54009690\n",
      "  reasonreputation guardianmother guardianother  traveltime  studytime\n",
      "2        0.7574062     0.02469885    -0.1505776 -0.20170753 -0.4228607\n",
      "3        1.5784704     0.50799552     0.4847403 -0.25659677 -0.1531916\n",
      "4        0.6233774     0.01979791    -1.9107774 -0.20412598 -0.8242985\n",
      "5        0.3524718     0.65749763    -3.6018674 -0.06501696 -0.9769237\n",
      "    failures schoolsupyes  famsupyes   paidyes activitiesyes  nurseryyes\n",
      "2 -0.2416743   -1.7378640  0.2356226 0.3696301    -0.3713701  0.22934371\n",
      "3  0.6640024   -0.6414908  0.2383645 0.1068328    -0.4632490  0.08400639\n",
      "4  0.3087759   -0.3479331 -0.5203688 2.2657232    -0.1579601 -0.11469375\n",
      "5  0.1115369   -4.3399014 -0.1015083 1.3981229     0.4223368 -0.14327273\n",
      "   higheryes internetyes romanticyes     famrel     freetime     goout    Dalc2\n",
      "2  0.6920337   0.1973435  -0.3417740 -0.3991909 -0.145385758 0.3127907 3.330859\n",
      "3  0.9169159   0.4033080  -0.2755049 -0.6354031 -0.006836478 0.5159851 4.360642\n",
      "4  1.1021424   0.4370773  -0.5793312 -0.7230145 -0.095863209 1.1374884 4.970674\n",
      "5 -0.1589540   0.1827070  -1.1874567 -1.0825174 -1.225160939 2.4800715 5.818125\n",
      "      Dalc3     Dalc4     Dalc5     health   absences          G1          G2\n",
      "2 0.9182114 -4.821346 -4.819055 0.08965385 0.04443112  0.08136299  0.02303000\n",
      "3 3.5344610 -3.783622 -3.015293 0.04954410 0.02793491 -0.04982320  0.17415303\n",
      "4 4.9761283  7.366856 -2.625747 0.24949721 0.07159601  0.10623928 -0.17652748\n",
      "5 8.0534936 10.638268 12.738797 0.49876963 0.10807323  0.19371489 -0.08929861\n",
      "           G3\n",
      "2 -0.09633944\n",
      "3 -0.14035551\n",
      "4  0.02302509\n",
      "5 -0.09009371\n",
      "\n",
      "Residual Deviance: 971.5164 \n",
      "AIC: 1331.516 \n"
     ]
    }
   ],
   "source": [
    "print(fit)"
   ]
  },
  {
   "cell_type": "code",
   "execution_count": 39,
   "metadata": {},
   "outputs": [
    {
     "name": "stdout",
     "output_type": "stream",
     "text": [
      "Confusion Matrix and Statistics\n",
      "\n",
      "          Reference\n",
      "Prediction  1  2  3  4  5\n",
      "         1 31 16 11  0  1\n",
      "         2  5  8  4  1  0\n",
      "         3  4  5  4  2  1\n",
      "         4  4  5  9  7  2\n",
      "         5  0  2  1  0  6\n",
      "\n",
      "Overall Statistics\n",
      "                                          \n",
      "               Accuracy : 0.4341          \n",
      "                 95% CI : (0.3471, 0.5242)\n",
      "    No Information Rate : 0.3411          \n",
      "    P-Value [Acc > NIR] : 0.017555        \n",
      "                                          \n",
      "                  Kappa : 0.251           \n",
      " Mcnemar's Test P-Value : 0.004872        \n",
      "\n",
      "Statistics by Class:\n",
      "\n",
      "                     Class: 1 Class: 2 Class: 3 Class: 4 Class: 5\n",
      "Sensitivity            0.7045  0.22222  0.13793  0.70000  0.60000\n",
      "Specificity            0.6706  0.89247  0.88000  0.83193  0.97479\n",
      "Pos Pred Value         0.5254  0.44444  0.25000  0.25926  0.66667\n",
      "Neg Pred Value         0.8143  0.74775  0.77876  0.97059  0.96667\n",
      "Prevalence             0.3411  0.27907  0.22481  0.07752  0.07752\n",
      "Detection Rate         0.2403  0.06202  0.03101  0.05426  0.04651\n",
      "Detection Prevalence   0.4574  0.13953  0.12403  0.20930  0.06977\n",
      "Balanced Accuracy      0.6876  0.55735  0.50897  0.76597  0.78739\n"
     ]
    }
   ],
   "source": [
    "# get predictions on test set\n",
    "tlda <- predict(fit,d2.test)\n",
    "# confussion matrix\n",
    "cmLL <- confusionMatrix(tlda,d2.test$Walc)\n",
    "cmLLAAcc <- cmLL$overall['Accuracy']\n",
    "print(cmLL)"
   ]
  },
  {
   "cell_type": "code",
   "execution_count": 20,
   "metadata": {},
   "outputs": [],
   "source": [
    "#accuracy of d2 is around 43% on d2"
   ]
  }
 ],
 "metadata": {
  "kernelspec": {
   "display_name": "R",
   "language": "R",
   "name": "ir"
  },
  "language_info": {
   "codemirror_mode": "r",
   "file_extension": ".r",
   "mimetype": "text/x-r-source",
   "name": "R",
   "pygments_lexer": "r",
   "version": "3.5.1"
  }
 },
 "nbformat": 4,
 "nbformat_minor": 2
}
