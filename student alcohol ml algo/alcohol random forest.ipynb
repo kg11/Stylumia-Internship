{
 "cells": [
  {
   "cell_type": "code",
   "execution_count": 2,
   "metadata": {},
   "outputs": [],
   "source": [
    "#read data\n",
    "d1=read.table(\"student-mat.csv\",sep=\",\",header=TRUE)\n",
    "d2=read.table(\"student-por.csv\",sep=\",\",header=TRUE)"
   ]
  },
  {
   "cell_type": "code",
   "execution_count": 4,
   "metadata": {},
   "outputs": [
    {
     "name": "stderr",
     "output_type": "stream",
     "text": [
      "Warning message:\n",
      "\"package 'ggplot2' was built under R version 3.5.2\"Warning message:\n",
      "\"package 'randomForest' was built under R version 3.5.2\"randomForest 4.6-14\n",
      "Type rfNews() to see new features/changes/bug fixes.\n",
      "\n",
      "Attaching package: 'randomForest'\n",
      "\n",
      "The following object is masked from 'package:ggplot2':\n",
      "\n",
      "    margin\n",
      "\n",
      "Warning message:\n",
      "\"package 'caret' was built under R version 3.5.2\"Loading required package: lattice\n",
      "Warning message:\n",
      "\"package 'dplyr' was built under R version 3.5.2\"\n",
      "Attaching package: 'dplyr'\n",
      "\n",
      "The following object is masked from 'package:randomForest':\n",
      "\n",
      "    combine\n",
      "\n",
      "The following objects are masked from 'package:stats':\n",
      "\n",
      "    filter, lag\n",
      "\n",
      "The following objects are masked from 'package:base':\n",
      "\n",
      "    intersect, setdiff, setequal, union\n",
      "\n",
      "\n",
      "Attaching package: 'MASS'\n",
      "\n",
      "The following object is masked from 'package:dplyr':\n",
      "\n",
      "    select\n",
      "\n"
     ]
    }
   ],
   "source": [
    "library(ggplot2)\n",
    "library(randomForest)\n",
    "library(caret)\n",
    "library(dplyr)\n",
    "library(MASS)\n",
    "library(nnet)"
   ]
  },
  {
   "cell_type": "code",
   "execution_count": 5,
   "metadata": {},
   "outputs": [
    {
     "name": "stderr",
     "output_type": "stream",
     "text": [
      "Warning message:\n",
      "\"package 'bindrcpp' was built under R version 3.5.2\""
     ]
    },
    {
     "data": {
      "text/html": [
       "0"
      ],
      "text/latex": [
       "0"
      ],
      "text/markdown": [
       "0"
      ],
      "text/plain": [
       "[1] 0"
      ]
     },
     "metadata": {},
     "output_type": "display_data"
    }
   ],
   "source": [
    "nzv <- nearZeroVar(d1, saveMetrics= TRUE)\n",
    "# number of predictors with near zero variance\n",
    "nzv %>% filter(nzv == TRUE) %>% nrow()"
   ]
  },
  {
   "cell_type": "code",
   "execution_count": 8,
   "metadata": {},
   "outputs": [
    {
     "data": {
      "text/html": [
       "0"
      ],
      "text/latex": [
       "0"
      ],
      "text/markdown": [
       "0"
      ],
      "text/plain": [
       "[1] 0"
      ]
     },
     "metadata": {},
     "output_type": "display_data"
    }
   ],
   "source": [
    "#missing data\n",
    "nrow(d1) - sum(complete.cases(d1))"
   ]
  },
  {
   "cell_type": "code",
   "execution_count": 9,
   "metadata": {},
   "outputs": [],
   "source": [
    "#we will apply random Forest algorithm to see what happens on walc and dalc attribute\n",
    "#dividing into train and test\n",
    "train <- sample(1:nrow(d1),size = ceiling(0.8*nrow(d1)),replace = FALSE)\n",
    "d1.train <- d1[train,]\n",
    "d1.test <- d1[-train,]"
   ]
  },
  {
   "cell_type": "code",
   "execution_count": 11,
   "metadata": {},
   "outputs": [
    {
     "name": "stdout",
     "output_type": "stream",
     "text": [
      "'data.frame':\t316 obs. of  33 variables:\n",
      " $ school    : Factor w/ 2 levels \"GP\",\"MS\": 2 1 1 1 1 1 1 1 1 1 ...\n",
      " $ sex       : Factor w/ 2 levels \"F\",\"M\": 1 2 1 2 2 2 2 2 2 1 ...\n",
      " $ age       : int  18 18 16 17 18 15 18 18 17 17 ...\n",
      " $ address   : Factor w/ 2 levels \"R\",\"U\": 2 1 2 2 2 2 2 2 1 1 ...\n",
      " $ famsize   : Factor w/ 2 levels \"GT3\",\"LE3\": 1 2 1 2 2 1 1 1 2 1 ...\n",
      " $ Pstatus   : Factor w/ 2 levels \"A\",\"T\": 2 2 2 1 2 2 2 2 2 2 ...\n",
      " $ Medu      : int  3 3 2 4 2 2 2 2 1 4 ...\n",
      " $ Fedu      : int  3 3 2 1 1 3 2 1 2 3 ...\n",
      " $ Mjob      : Factor w/ 5 levels \"at_home\",\"health\",..: 4 3 3 4 1 3 3 3 3 5 ...\n",
      " $ Fjob      : Factor w/ 5 levels \"at_home\",\"health\",..: 4 4 3 3 3 3 4 3 3 3 ...\n",
      " $ reason    : Factor w/ 4 levels \"course\",\"home\",..: 3 1 2 2 1 2 4 2 4 4 ...\n",
      " $ guardian  : Factor w/ 3 levels \"father\",\"mother\",..: 2 2 2 2 2 2 1 2 2 2 ...\n",
      " $ traveltime: int  2 1 1 2 4 1 1 1 1 2 ...\n",
      " $ studytime : int  2 2 2 1 2 3 2 2 1 3 ...\n",
      " $ failures  : int  0 1 0 0 0 0 1 0 0 0 ...\n",
      " $ schoolsup : Factor w/ 2 levels \"no\",\"yes\": 1 1 1 1 2 2 1 1 1 1 ...\n",
      " $ famsup    : Factor w/ 2 levels \"no\",\"yes\": 2 2 2 1 2 1 1 1 1 2 ...\n",
      " $ paid      : Factor w/ 2 levels \"no\",\"yes\": 1 1 2 2 2 2 1 1 1 2 ...\n",
      " $ activities: Factor w/ 2 levels \"no\",\"yes\": 1 1 1 2 2 1 1 2 1 2 ...\n",
      " $ nursery   : Factor w/ 2 levels \"no\",\"yes\": 2 2 1 2 2 1 2 2 2 2 ...\n",
      " $ higher    : Factor w/ 2 levels \"no\",\"yes\": 2 2 2 2 2 2 1 2 2 2 ...\n",
      " $ internet  : Factor w/ 2 levels \"no\",\"yes\": 2 2 2 2 2 2 2 2 1 2 ...\n",
      " $ romantic  : Factor w/ 2 levels \"no\",\"yes\": 2 2 1 2 2 1 1 1 1 2 ...\n",
      " $ famrel    : int  4 4 5 4 4 5 5 5 2 4 ...\n",
      " $ freetime  : int  3 3 1 5 3 3 5 2 2 4 ...\n",
      " $ goout     : int  2 3 5 4 2 2 4 4 2 2 ...\n",
      " $ Dalc      : int  1 1 1 2 4 1 3 1 3 1 ...\n",
      " $ Walc      : int  3 3 1 4 5 2 5 2 3 1 ...\n",
      " $ health    : int  3 5 4 5 3 5 2 4 5 4 ...\n",
      " $ absences  : int  0 8 0 30 14 4 0 8 8 6 ...\n",
      " $ G1        : int  11 3 6 8 10 11 7 15 16 7 ...\n",
      " $ G2        : int  11 5 7 8 8 10 7 14 12 7 ...\n",
      " $ G3        : int  10 5 0 8 9 11 0 14 13 7 ...\n"
     ]
    }
   ],
   "source": [
    "str(d1.train)"
   ]
  },
  {
   "cell_type": "code",
   "execution_count": 12,
   "metadata": {},
   "outputs": [],
   "source": [
    "#walc and dalc considered as categorical attribute\n",
    "d1.train$Walc <- as.factor(d1.train$Walc)\n",
    "d1.train$Dalc <- as.factor(d1.train$Dalc)\n",
    "d1.test$Walc <- as.factor(d1.test$Walc)\n",
    "d1.test$Dalc <- as.factor(d1.test$Dalc)"
   ]
  },
  {
   "cell_type": "code",
   "execution_count": 13,
   "metadata": {},
   "outputs": [
    {
     "name": "stdout",
     "output_type": "stream",
     "text": [
      "'data.frame':\t316 obs. of  33 variables:\n",
      " $ school    : Factor w/ 2 levels \"GP\",\"MS\": 2 1 1 1 1 1 1 1 1 1 ...\n",
      " $ sex       : Factor w/ 2 levels \"F\",\"M\": 1 2 1 2 2 2 2 2 2 1 ...\n",
      " $ age       : int  18 18 16 17 18 15 18 18 17 17 ...\n",
      " $ address   : Factor w/ 2 levels \"R\",\"U\": 2 1 2 2 2 2 2 2 1 1 ...\n",
      " $ famsize   : Factor w/ 2 levels \"GT3\",\"LE3\": 1 2 1 2 2 1 1 1 2 1 ...\n",
      " $ Pstatus   : Factor w/ 2 levels \"A\",\"T\": 2 2 2 1 2 2 2 2 2 2 ...\n",
      " $ Medu      : int  3 3 2 4 2 2 2 2 1 4 ...\n",
      " $ Fedu      : int  3 3 2 1 1 3 2 1 2 3 ...\n",
      " $ Mjob      : Factor w/ 5 levels \"at_home\",\"health\",..: 4 3 3 4 1 3 3 3 3 5 ...\n",
      " $ Fjob      : Factor w/ 5 levels \"at_home\",\"health\",..: 4 4 3 3 3 3 4 3 3 3 ...\n",
      " $ reason    : Factor w/ 4 levels \"course\",\"home\",..: 3 1 2 2 1 2 4 2 4 4 ...\n",
      " $ guardian  : Factor w/ 3 levels \"father\",\"mother\",..: 2 2 2 2 2 2 1 2 2 2 ...\n",
      " $ traveltime: int  2 1 1 2 4 1 1 1 1 2 ...\n",
      " $ studytime : int  2 2 2 1 2 3 2 2 1 3 ...\n",
      " $ failures  : int  0 1 0 0 0 0 1 0 0 0 ...\n",
      " $ schoolsup : Factor w/ 2 levels \"no\",\"yes\": 1 1 1 1 2 2 1 1 1 1 ...\n",
      " $ famsup    : Factor w/ 2 levels \"no\",\"yes\": 2 2 2 1 2 1 1 1 1 2 ...\n",
      " $ paid      : Factor w/ 2 levels \"no\",\"yes\": 1 1 2 2 2 2 1 1 1 2 ...\n",
      " $ activities: Factor w/ 2 levels \"no\",\"yes\": 1 1 1 2 2 1 1 2 1 2 ...\n",
      " $ nursery   : Factor w/ 2 levels \"no\",\"yes\": 2 2 1 2 2 1 2 2 2 2 ...\n",
      " $ higher    : Factor w/ 2 levels \"no\",\"yes\": 2 2 2 2 2 2 1 2 2 2 ...\n",
      " $ internet  : Factor w/ 2 levels \"no\",\"yes\": 2 2 2 2 2 2 2 2 1 2 ...\n",
      " $ romantic  : Factor w/ 2 levels \"no\",\"yes\": 2 2 1 2 2 1 1 1 1 2 ...\n",
      " $ famrel    : int  4 4 5 4 4 5 5 5 2 4 ...\n",
      " $ freetime  : int  3 3 1 5 3 3 5 2 2 4 ...\n",
      " $ goout     : int  2 3 5 4 2 2 4 4 2 2 ...\n",
      " $ Dalc      : Factor w/ 5 levels \"1\",\"2\",\"3\",\"4\",..: 1 1 1 2 4 1 3 1 3 1 ...\n",
      " $ Walc      : Factor w/ 5 levels \"1\",\"2\",\"3\",\"4\",..: 3 3 1 4 5 2 5 2 3 1 ...\n",
      " $ health    : int  3 5 4 5 3 5 2 4 5 4 ...\n",
      " $ absences  : int  0 8 0 30 14 4 0 8 8 6 ...\n",
      " $ G1        : int  11 3 6 8 10 11 7 15 16 7 ...\n",
      " $ G2        : int  11 5 7 8 8 10 7 14 12 7 ...\n",
      " $ G3        : int  10 5 0 8 9 11 0 14 13 7 ...\n"
     ]
    }
   ],
   "source": [
    "str(d1.train)"
   ]
  },
  {
   "cell_type": "code",
   "execution_count": 15,
   "metadata": {},
   "outputs": [],
   "source": [
    "mtry <- sqrt(ncol(d1.train))\n",
    "ntree <- 1000\n",
    "rf <- randomForest(Walc~.,data = d1.train,mtry=mtry,ntree=ntree)"
   ]
  },
  {
   "cell_type": "code",
   "execution_count": 17,
   "metadata": {},
   "outputs": [
    {
     "data": {
      "text/plain": [
       "\n",
       "Call:\n",
       " randomForest(formula = Walc ~ ., data = d1.train, mtry = mtry,      ntree = ntree) \n",
       "               Type of random forest: classification\n",
       "                     Number of trees: 1000\n",
       "No. of variables tried at each split: 6\n",
       "\n",
       "        OOB estimate of  error rate: 48.1%\n",
       "Confusion matrix:\n",
       "    1 2  3  4 5 class.error\n",
       "1 123 4  1  1 0  0.04651163\n",
       "2  46 3 13  3 0  0.95384615\n",
       "3  30 6 22  4 0  0.64516129\n",
       "4  10 3  9 12 2  0.66666667\n",
       "5   4 0  5 11 4  0.83333333"
      ]
     },
     "metadata": {},
     "output_type": "display_data"
    }
   ],
   "source": [
    "rf"
   ]
  },
  {
   "cell_type": "code",
   "execution_count": 18,
   "metadata": {},
   "outputs": [
    {
     "data": {
      "image/png": "[encoded data removed]",
      "text/plain": [
       "Plot with title \"rf\""
      ]
     },
     "metadata": {},
     "output_type": "display_data"
    }
   ],
   "source": [
    "varImpPlot(rf)"
   ]
  },
  {
   "cell_type": "code",
   "execution_count": 19,
   "metadata": {},
   "outputs": [
    {
     "name": "stdout",
     "output_type": "stream",
     "text": [
      "Confusion Matrix and Statistics\n",
      "\n",
      "          Reference\n",
      "Prediction  1  2  3  4  5\n",
      "         1 21 15  8  3  0\n",
      "         2  1  2  1  0  0\n",
      "         3  0  3  9  7  1\n",
      "         4  0  0  0  4  1\n",
      "         5  0  0  0  1  2\n",
      "\n",
      "Overall Statistics\n",
      "                                          \n",
      "               Accuracy : 0.481           \n",
      "                 95% CI : (0.3671, 0.5964)\n",
      "    No Information Rate : 0.2785          \n",
      "    P-Value [Acc > NIR] : 0.0001039       \n",
      "                                          \n",
      "                  Kappa : 0.3079          \n",
      " Mcnemar's Test P-Value : NA              \n",
      "\n",
      "Statistics by Class:\n",
      "\n",
      "                     Class: 1 Class: 2 Class: 3 Class: 4 Class: 5\n",
      "Sensitivity            0.9545  0.10000   0.5000  0.26667  0.50000\n",
      "Specificity            0.5439  0.96610   0.8197  0.98438  0.98667\n",
      "Pos Pred Value         0.4468  0.50000   0.4500  0.80000  0.66667\n",
      "Neg Pred Value         0.9688  0.76000   0.8475  0.85135  0.97368\n",
      "Prevalence             0.2785  0.25316   0.2278  0.18987  0.05063\n",
      "Detection Rate         0.2658  0.02532   0.1139  0.05063  0.02532\n",
      "Detection Prevalence   0.5949  0.05063   0.2532  0.06329  0.03797\n",
      "Balanced Accuracy      0.7492  0.53305   0.6598  0.62552  0.74333\n"
     ]
    }
   ],
   "source": [
    "#testing on test data\n",
    "trf <- predict(rf,d1.test)\n",
    "cmRF <- confusionMatrix(trf,d1.test$Walc)\n",
    "cmRFAcc <- cmRF$overall['Accuracy']\n",
    "print(cmRF)"
   ]
  },
  {
   "cell_type": "code",
   "execution_count": 20,
   "metadata": {},
   "outputs": [],
   "source": [
    "#so overal accuracy of random forest is 48% on d1\n",
    "#we will see same for d2"
   ]
  },
  {
   "cell_type": "code",
   "execution_count": 21,
   "metadata": {},
   "outputs": [],
   "source": [
    "#we will apply random Forest algorithm to see what happens on walc and dalc attribute\n",
    "#dividing into train and test\n",
    "train <- sample(1:nrow(d2),size = ceiling(0.8*nrow(d2)),replace = FALSE)\n",
    "d2.train <- d2[train,]\n",
    "d2.test <- d2[-train,]"
   ]
  },
  {
   "cell_type": "code",
   "execution_count": 22,
   "metadata": {},
   "outputs": [
    {
     "name": "stdout",
     "output_type": "stream",
     "text": [
      "'data.frame':\t649 obs. of  33 variables:\n",
      " $ school    : Factor w/ 2 levels \"GP\",\"MS\": 1 1 1 1 1 1 1 1 1 1 ...\n",
      " $ sex       : Factor w/ 2 levels \"F\",\"M\": 1 1 1 1 1 2 2 1 2 2 ...\n",
      " $ age       : int  18 17 15 15 16 16 16 17 15 15 ...\n",
      " $ address   : Factor w/ 2 levels \"R\",\"U\": 2 2 2 2 2 2 2 2 2 2 ...\n",
      " $ famsize   : Factor w/ 2 levels \"GT3\",\"LE3\": 1 1 2 1 1 2 2 1 2 1 ...\n",
      " $ Pstatus   : Factor w/ 2 levels \"A\",\"T\": 1 2 2 2 2 2 2 1 1 2 ...\n",
      " $ Medu      : int  4 1 1 4 3 4 2 4 3 3 ...\n",
      " $ Fedu      : int  4 1 1 2 3 3 2 4 2 4 ...\n",
      " $ Mjob      : Factor w/ 5 levels \"at_home\",\"health\",..: 1 1 1 2 3 4 3 3 4 3 ...\n",
      " $ Fjob      : Factor w/ 5 levels \"at_home\",\"health\",..: 5 3 3 4 3 3 3 5 3 3 ...\n",
      " $ reason    : Factor w/ 4 levels \"course\",\"home\",..: 1 1 3 2 2 4 2 2 2 2 ...\n",
      " $ guardian  : Factor w/ 3 levels \"father\",\"mother\",..: 2 1 2 2 1 2 2 2 2 2 ...\n",
      " $ traveltime: int  2 1 1 1 1 1 1 2 1 1 ...\n",
      " $ studytime : int  2 2 2 3 2 2 2 2 2 2 ...\n",
      " $ failures  : int  0 0 0 0 0 0 0 0 0 0 ...\n",
      " $ schoolsup : Factor w/ 2 levels \"no\",\"yes\": 2 1 2 1 1 1 1 2 1 1 ...\n",
      " $ famsup    : Factor w/ 2 levels \"no\",\"yes\": 1 2 1 2 2 2 1 2 2 2 ...\n",
      " $ paid      : Factor w/ 2 levels \"no\",\"yes\": 1 1 1 1 1 1 1 1 1 1 ...\n",
      " $ activities: Factor w/ 2 levels \"no\",\"yes\": 1 1 1 2 1 2 1 1 1 2 ...\n",
      " $ nursery   : Factor w/ 2 levels \"no\",\"yes\": 2 1 2 2 2 2 2 2 2 2 ...\n",
      " $ higher    : Factor w/ 2 levels \"no\",\"yes\": 2 2 2 2 2 2 2 2 2 2 ...\n",
      " $ internet  : Factor w/ 2 levels \"no\",\"yes\": 1 2 2 2 1 2 2 1 2 2 ...\n",
      " $ romantic  : Factor w/ 2 levels \"no\",\"yes\": 1 1 1 2 1 1 1 1 1 1 ...\n",
      " $ famrel    : int  4 5 4 3 4 5 4 4 4 5 ...\n",
      " $ freetime  : int  3 3 3 2 3 4 4 1 2 5 ...\n",
      " $ goout     : int  4 3 2 2 2 2 4 4 2 1 ...\n",
      " $ Dalc      : int  1 1 2 1 1 1 1 1 1 1 ...\n",
      " $ Walc      : int  1 1 3 1 2 2 1 1 1 1 ...\n",
      " $ health    : int  3 3 3 5 5 5 3 1 1 5 ...\n",
      " $ absences  : int  4 2 6 0 0 6 0 2 0 0 ...\n",
      " $ G1        : int  0 9 12 14 11 12 13 10 15 12 ...\n",
      " $ G2        : int  11 11 13 14 13 12 12 13 16 12 ...\n",
      " $ G3        : int  11 11 12 14 13 13 13 13 17 13 ...\n"
     ]
    }
   ],
   "source": [
    "str(d2)"
   ]
  },
  {
   "cell_type": "code",
   "execution_count": 23,
   "metadata": {},
   "outputs": [],
   "source": [
    "#walc and dalc considered as categorical attribute\n",
    "d2.train$Walc <- as.factor(d2.train$Walc)\n",
    "d2.train$Dalc <- as.factor(d2.train$Dalc)\n",
    "d2.test$Walc <- as.factor(d2.test$Walc)\n",
    "d2.test$Dalc <- as.factor(d2.test$Dalc)"
   ]
  },
  {
   "cell_type": "code",
   "execution_count": 24,
   "metadata": {},
   "outputs": [
    {
     "name": "stdout",
     "output_type": "stream",
     "text": [
      "'data.frame':\t649 obs. of  33 variables:\n",
      " $ school    : Factor w/ 2 levels \"GP\",\"MS\": 1 1 1 1 1 1 1 1 1 1 ...\n",
      " $ sex       : Factor w/ 2 levels \"F\",\"M\": 1 1 1 1 1 2 2 1 2 2 ...\n",
      " $ age       : int  18 17 15 15 16 16 16 17 15 15 ...\n",
      " $ address   : Factor w/ 2 levels \"R\",\"U\": 2 2 2 2 2 2 2 2 2 2 ...\n",
      " $ famsize   : Factor w/ 2 levels \"GT3\",\"LE3\": 1 1 2 1 1 2 2 1 2 1 ...\n",
      " $ Pstatus   : Factor w/ 2 levels \"A\",\"T\": 1 2 2 2 2 2 2 1 1 2 ...\n",
      " $ Medu      : int  4 1 1 4 3 4 2 4 3 3 ...\n",
      " $ Fedu      : int  4 1 1 2 3 3 2 4 2 4 ...\n",
      " $ Mjob      : Factor w/ 5 levels \"at_home\",\"health\",..: 1 1 1 2 3 4 3 3 4 3 ...\n",
      " $ Fjob      : Factor w/ 5 levels \"at_home\",\"health\",..: 5 3 3 4 3 3 3 5 3 3 ...\n",
      " $ reason    : Factor w/ 4 levels \"course\",\"home\",..: 1 1 3 2 2 4 2 2 2 2 ...\n",
      " $ guardian  : Factor w/ 3 levels \"father\",\"mother\",..: 2 1 2 2 1 2 2 2 2 2 ...\n",
      " $ traveltime: int  2 1 1 1 1 1 1 2 1 1 ...\n",
      " $ studytime : int  2 2 2 3 2 2 2 2 2 2 ...\n",
      " $ failures  : int  0 0 0 0 0 0 0 0 0 0 ...\n",
      " $ schoolsup : Factor w/ 2 levels \"no\",\"yes\": 2 1 2 1 1 1 1 2 1 1 ...\n",
      " $ famsup    : Factor w/ 2 levels \"no\",\"yes\": 1 2 1 2 2 2 1 2 2 2 ...\n",
      " $ paid      : Factor w/ 2 levels \"no\",\"yes\": 1 1 1 1 1 1 1 1 1 1 ...\n",
      " $ activities: Factor w/ 2 levels \"no\",\"yes\": 1 1 1 2 1 2 1 1 1 2 ...\n",
      " $ nursery   : Factor w/ 2 levels \"no\",\"yes\": 2 1 2 2 2 2 2 2 2 2 ...\n",
      " $ higher    : Factor w/ 2 levels \"no\",\"yes\": 2 2 2 2 2 2 2 2 2 2 ...\n",
      " $ internet  : Factor w/ 2 levels \"no\",\"yes\": 1 2 2 2 1 2 2 1 2 2 ...\n",
      " $ romantic  : Factor w/ 2 levels \"no\",\"yes\": 1 1 1 2 1 1 1 1 1 1 ...\n",
      " $ famrel    : int  4 5 4 3 4 5 4 4 4 5 ...\n",
      " $ freetime  : int  3 3 3 2 3 4 4 1 2 5 ...\n",
      " $ goout     : int  4 3 2 2 2 2 4 4 2 1 ...\n",
      " $ Dalc      : int  1 1 2 1 1 1 1 1 1 1 ...\n",
      " $ Walc      : int  1 1 3 1 2 2 1 1 1 1 ...\n",
      " $ health    : int  3 3 3 5 5 5 3 1 1 5 ...\n",
      " $ absences  : int  4 2 6 0 0 6 0 2 0 0 ...\n",
      " $ G1        : int  0 9 12 14 11 12 13 10 15 12 ...\n",
      " $ G2        : int  11 11 13 14 13 12 12 13 16 12 ...\n",
      " $ G3        : int  11 11 12 14 13 13 13 13 17 13 ...\n"
     ]
    }
   ],
   "source": [
    "str(d2)"
   ]
  },
  {
   "cell_type": "code",
   "execution_count": 25,
   "metadata": {},
   "outputs": [],
   "source": [
    "mtry <- sqrt(ncol(d2.train))\n",
    "ntree <- 1000\n",
    "rf <- randomForest(Walc~.,data = d2.train,mtry=mtry,ntree=ntree)"
   ]
  },
  {
   "cell_type": "code",
   "execution_count": 26,
   "metadata": {},
   "outputs": [
    {
     "data": {
      "text/plain": [
       "\n",
       "Call:\n",
       " randomForest(formula = Walc ~ ., data = d2.train, mtry = mtry,      ntree = ntree) \n",
       "               Type of random forest: classification\n",
       "                     Number of trees: 1000\n",
       "No. of variables tried at each split: 6\n",
       "\n",
       "        OOB estimate of  error rate: 53.08%\n",
       "Confusion matrix:\n",
       "    1  2  3  4 5 class.error\n",
       "1 182 13  5  0 0   0.0900000\n",
       "2  84 11 19  4 1   0.9075630\n",
       "3  45 11 19 19 1   0.8000000\n",
       "4  17  3 18 27 5   0.6142857\n",
       "5   3  5  4 19 5   0.8611111"
      ]
     },
     "metadata": {},
     "output_type": "display_data"
    }
   ],
   "source": [
    "rf"
   ]
  },
  {
   "cell_type": "code",
   "execution_count": 27,
   "metadata": {},
   "outputs": [
    {
     "data": {
      "image/png": "[encoded data removed]",
      "text/plain": [
       "Plot with title \"rf\""
      ]
     },
     "metadata": {},
     "output_type": "display_data"
    }
   ],
   "source": [
    "varImpPlot(rf)"
   ]
  },
  {
   "cell_type": "code",
   "execution_count": 28,
   "metadata": {},
   "outputs": [
    {
     "name": "stdout",
     "output_type": "stream",
     "text": [
      "Confusion Matrix and Statistics\n",
      "\n",
      "          Reference\n",
      "Prediction  1  2  3  4  5\n",
      "         1 45 19 10  9  0\n",
      "         2  2  7  7  0  1\n",
      "         3  0  5  6  2  1\n",
      "         4  0  0  2  5  2\n",
      "         5  0  0  0  1  5\n",
      "\n",
      "Overall Statistics\n",
      "                                          \n",
      "               Accuracy : 0.5271          \n",
      "                 95% CI : (0.4374, 0.6156)\n",
      "    No Information Rate : 0.3643          \n",
      "    P-Value [Acc > NIR] : 0.0001177       \n",
      "                                          \n",
      "                  Kappa : 0.3249          \n",
      " Mcnemar's Test P-Value : NA              \n",
      "\n",
      "Statistics by Class:\n",
      "\n",
      "                     Class: 1 Class: 2 Class: 3 Class: 4 Class: 5\n",
      "Sensitivity            0.9574  0.22581  0.24000  0.29412  0.55556\n",
      "Specificity            0.5366  0.89796  0.92308  0.96429  0.99167\n",
      "Pos Pred Value         0.5422  0.41176  0.42857  0.55556  0.83333\n",
      "Neg Pred Value         0.9565  0.78571  0.83478  0.90000  0.96748\n",
      "Prevalence             0.3643  0.24031  0.19380  0.13178  0.06977\n",
      "Detection Rate         0.3488  0.05426  0.04651  0.03876  0.03876\n",
      "Detection Prevalence   0.6434  0.13178  0.10853  0.06977  0.04651\n",
      "Balanced Accuracy      0.7470  0.56188  0.58154  0.62920  0.77361\n"
     ]
    }
   ],
   "source": [
    "#testing on test data\n",
    "trf <- predict(rf,d2.test)\n",
    "cmRF <- confusionMatrix(trf,d2.test$Walc)\n",
    "cmRFAcc <- cmRF$overall['Accuracy']\n",
    "print(cmRF)"
   ]
  },
  {
   "cell_type": "code",
   "execution_count": 29,
   "metadata": {},
   "outputs": [],
   "source": [
    "#accuracy increases on dataset d2 it is around 52%"
   ]
  }
 ],
 "metadata": {
  "kernelspec": {
   "display_name": "R",
   "language": "R",
   "name": "ir"
  },
  "language_info": {
   "codemirror_mode": "r",
   "file_extension": ".r",
   "mimetype": "text/x-r-source",
   "name": "R",
   "pygments_lexer": "r",
   "version": "3.5.1"
  }
 },
 "nbformat": 4,
 "nbformat_minor": 2
}
